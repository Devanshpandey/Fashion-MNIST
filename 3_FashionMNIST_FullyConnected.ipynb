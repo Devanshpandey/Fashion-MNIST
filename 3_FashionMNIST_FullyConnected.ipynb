{
 "cells": [
  {
   "cell_type": "code",
   "execution_count": null,
   "metadata": {
    "colab": {
     "base_uri": "https://localhost:8080/",
     "height": 189
    },
    "colab_type": "code",
    "id": "86wHN-tJmoU-",
    "outputId": "a7954490-9ed3-4590-c168-4d0734de6bdd"
   },
   "outputs": [],
   "source": [
    "from google.colab import drive\n",
    "drive.mount('/content/gdrive')"
   ]
  },
  {
   "cell_type": "code",
   "execution_count": null,
   "metadata": {
    "colab": {},
    "colab_type": "code",
    "id": "mI57AoYm0Qpl"
   },
   "outputs": [],
   "source": [
    "%matplotlib inline\n",
    "import torch\n",
    "import torchvision\n",
    "import torchvision.transforms as transforms\n",
    "import torch.nn as nn\n",
    "import torch.nn.functional as F\n",
    "import torch.optim as optim\n",
    "import numpy as np\n",
    "import matplotlib.pyplot as plt"
   ]
  },
  {
   "cell_type": "code",
   "execution_count": null,
   "metadata": {
    "colab": {},
    "colab_type": "code",
    "id": "C_VM9tdh1mpn"
   },
   "outputs": [],
   "source": [
    "# Hyperparameters\n",
    "batch_size = 64\n",
    "input_size = 784\n",
    "hidden_size_1 = 512 # 4096\n",
    "hidden_size_2 = 256 # 2048\n",
    "hidden_size_3 = 128 # 1024\n",
    "num_classes = 10\n",
    "\n",
    "# Learning rate\n",
    "lr = 0.0001\n",
    "# Number of training epochs\n",
    "num_epochs = 20\n",
    "# Device configuration\n",
    "device = torch.device(\"cuda:0\" if torch.cuda.is_available() else \"cpu\")\n",
    "\n",
    "# Path to dataset\n",
    "# dataset_root_path = '/scratch2/datasets/FashionMNIST/'\n",
    "dataset_root_path = '/content/gdrive/My Drive/FashionMNIST/'"
   ]
  },
  {
   "cell_type": "code",
   "execution_count": null,
   "metadata": {
    "colab": {},
    "colab_type": "code",
    "id": "eheeSXs7yY_f"
   },
   "outputs": [],
   "source": [
    "trainset = torchvision.datasets.FashionMNIST(root=dataset_root_path, train=True,\\\n",
    "                                             download=True, transform=transforms.ToTensor())\n",
    "testset = torchvision.datasets.FashionMNIST(root=dataset_root_path, train=False,\\\n",
    "                                            download=True, transform=transforms.ToTensor())"
   ]
  },
  {
   "cell_type": "code",
   "execution_count": null,
   "metadata": {
    "colab": {},
    "colab_type": "code",
    "id": "Rk5kD8PAzyvT"
   },
   "outputs": [],
   "source": [
    "trainloader = torch.utils.data.DataLoader(trainset, batch_size=batch_size, shuffle=True, num_workers=2)\n",
    "testloader = torch.utils.data.DataLoader(testset, batch_size=batch_size, shuffle=False, num_workers=2)"
   ]
  },
  {
   "cell_type": "code",
   "execution_count": null,
   "metadata": {
    "colab": {
     "base_uri": "https://localhost:8080/",
     "height": 51
    },
    "colab_type": "code",
    "id": "SdmzLIj52tXh",
    "outputId": "ead885ff-e855-4748-a651-1eed110d371c"
   },
   "outputs": [
    {
     "name": "stdout",
     "output_type": "stream",
     "text": [
      "torch.Size([60000, 28, 28])\n",
      "torch.Size([60000])\n"
     ]
    }
   ],
   "source": [
    "print(trainloader.dataset.train_data.shape)\n",
    "print(trainloader.dataset.train_labels.shape)"
   ]
  },
  {
   "cell_type": "code",
   "execution_count": null,
   "metadata": {
    "colab": {},
    "colab_type": "code",
    "id": "aNy0D0Mx61Nd"
   },
   "outputs": [],
   "source": [
    "# Define the class strings for visualization -- The description is in\n",
    "# https://github.com/zalandoresearch/fashion-mnist#Labels\n",
    "classes = ('T-shirt/top', 'Trouser', 'Pullover', 'Dress', 'Coat', 'Sandal', 'Shirt', 'Sneaker', 'Bag', 'Ankle-boot')"
   ]
  },
  {
   "cell_type": "markdown",
   "metadata": {
    "colab_type": "text",
    "id": "TRdIjxre2Gdw"
   },
   "source": [
    "Let us show some of the training images, for fun\n",
    "\n",
    "---\n",
    "\n"
   ]
  },
  {
   "cell_type": "code",
   "execution_count": null,
   "metadata": {
    "colab": {},
    "colab_type": "code",
    "id": "0wue3bFm2ESp"
   },
   "outputs": [],
   "source": [
    "# Function to show an image\n",
    "def imshow(img):\n",
    "    npimg = img.numpy()\n",
    "    plt.imshow(np.transpose(npimg, (1,2,0)), interpolation='nearest')\n",
    "    plt.axis('off')\n",
    "    plt.show()"
   ]
  },
  {
   "cell_type": "code",
   "execution_count": null,
   "metadata": {
    "colab": {
     "base_uri": "https://localhost:8080/",
     "height": 189
    },
    "colab_type": "code",
    "id": "5MNRFAPz3PF5",
    "outputId": "d75c5a87-6f8b-4eea-8d7c-9d440f3cfa06"
   },
   "outputs": [
    {
     "name": "stdout",
     "output_type": "stream",
     "text": [
      "torch.Size([64, 1, 28, 28])\n",
      "torch.Size([64])\n"
     ]
    },
    {
     "data": {
      "image/png": "[encoded data removed]",
      "text/plain": [
       "<Figure size 432x288 with 1 Axes>"
      ]
     },
     "metadata": {
      "tags": []
     },
     "output_type": "display_data"
    },
    {
     "name": "stdout",
     "output_type": "stream",
     "text": [
      "Dress Pullover Pullover Dress\n"
     ]
    }
   ],
   "source": [
    "# get some random training images\n",
    "dataiter = iter(trainloader)\n",
    "images, labels = dataiter.next()\n",
    "print(images.shape)\n",
    "print(labels.shape)\n",
    "\n",
    "# show images\n",
    "imshow(torchvision.utils.make_grid(images[:4],nrow=4))\n",
    "# print labels\n",
    "print(' '.join('%5s' % classes[labels[j]] for j in range(4)))"
   ]
  },
  {
   "cell_type": "code",
   "execution_count": null,
   "metadata": {
    "colab": {},
    "colab_type": "code",
    "id": "MeFkBraQ3b3T"
   },
   "outputs": [],
   "source": [
    "# Fully connected neural network with three hidden layer\n",
    "class NeuralNetThreeLayer(nn.Module):\n",
    "    def __init__(self, input_size, hidden_size_1, hidden_size_2, hidden_size_3, num_classes):\n",
    "        super(NeuralNetThreeLayer, self).__init__()\n",
    "        self.fc1 = nn.Linear(input_size, hidden_size_1)\n",
    "        self.fc2 = nn.Linear(hidden_size_1, hidden_size_2)\n",
    "        self.fc3 = nn.Linear(hidden_size_2, hidden_size_3)\n",
    "        self.fc4 = nn.Linear(hidden_size_3, num_classes)\n",
    "        \n",
    "        self.relu = nn.ReLU()\n",
    "        \n",
    "    \n",
    "    def forward(self, x):\n",
    "        x = self.fc1(x)\n",
    "        x = self.relu(x)\n",
    "        x = self.fc2(x)\n",
    "        x = self.relu(x)\n",
    "        x = self.fc3(x)\n",
    "        x = self.relu(x)\n",
    "        x = self.fc4(x)\n",
    "        return x\n",
    "\n",
    "net = NeuralNetThreeLayer(input_size, hidden_size_1, hidden_size_2, hidden_size_3, num_classes)\n",
    "net = net.to(device)"
   ]
  },
  {
   "cell_type": "markdown",
   "metadata": {
    "colab_type": "text",
    "id": "YhqWgSC--o1z"
   },
   "source": [
    "Define a Loss function and optimizer\n",
    "\n",
    "---\n",
    "\n"
   ]
  },
  {
   "cell_type": "code",
   "execution_count": null,
   "metadata": {
    "colab": {},
    "colab_type": "code",
    "id": "vxgiHPSI-Sdy"
   },
   "outputs": [],
   "source": [
    "criterion = nn.CrossEntropyLoss()\n",
    "# optimizer = optim.SGD(net.parameters(), lr=lr, momentum=0.9)\n",
    "optimizer = optim.Adam(net.parameters(), lr=lr)"
   ]
  },
  {
   "cell_type": "code",
   "execution_count": null,
   "metadata": {
    "colab": {},
    "colab_type": "code",
    "id": "Pmz-13VvG-Qg"
   },
   "outputs": [],
   "source": [
    "# Helper function to test the model\n",
    "# In test phase, we don't need to compute gradients (for memory efficiency)\n",
    "def eval(testloader, epoch):\n",
    "    # print('here')\n",
    "    with torch.no_grad():\n",
    "        running_loss_test = 0.0\n",
    "        test_correct = 0\n",
    "        test_total = 0\n",
    "        test_i = 0\n",
    "        for test_images, test_labels in testloader:\n",
    "            # get the inputs\n",
    "            test_images = test_images.reshape(-1, 28*28).to(device)\n",
    "            test_labels = test_labels.to(device)\n",
    "            test_outputs = net(test_images)\n",
    "            test_loss = criterion(test_outputs, test_labels)\n",
    "            _, test_predicted = torch.max(test_outputs.data, 1)\n",
    "            \n",
    "            running_loss_test += test_loss.item()\n",
    "            test_total += test_labels.size(0)\n",
    "            test_correct += (test_predicted == test_labels).sum().item()\n",
    "            test_i += 1\n",
    "\n",
    "            if test_total >= testloader.dataset.test_data.shape[0]-batch_size:\n",
    "                print('[{:d}], test accuracy: {:4.2f} %, test_loss {:.5f}'.format(epoch+1, \\\n",
    "                                                100*test_correct/test_total, running_loss_test/(test_i+1)))\n",
    "                break\n",
    "        return 100*test_correct/test_total, running_loss_test/(test_i+1)"
   ]
  },
  {
   "cell_type": "code",
   "execution_count": null,
   "metadata": {
    "colab": {},
    "colab_type": "code",
    "id": "VEUnl-1gNnOU"
   },
   "outputs": [],
   "source": [
    "# Eval on training data. This is to be run with initial model only\n",
    "# In eval phase, we don't need to compute gradients (for memory efficiency)\n",
    "def eval_initial_model(trainloader):\n",
    "    with torch.no_grad():\n",
    "        running_loss_train = 0.0\n",
    "        train_correct = 0\n",
    "        train_total = 0\n",
    "        train_i = 0\n",
    "        for train_images, train_labels in trainloader:\n",
    "            # get the inputs\n",
    "            train_images = train_images.reshape(-1, 28*28).to(device)\n",
    "            train_labels = train_labels.to(device)\n",
    "            train_outputs = net(train_images)\n",
    "            train_loss = criterion(train_outputs, train_labels)\n",
    "            _, train_predicted = torch.max(train_outputs.data, 1)\n",
    "            \n",
    "            running_loss_train += train_loss.item()\n",
    "            train_total += train_labels.size(0)\n",
    "            train_correct += (train_predicted == train_labels).sum().item()\n",
    "            train_i += 1\n",
    "        \n",
    "        print('[0], train accuracy: {:4.2f} %, train_loss {:.5f}'.format(100*train_correct/train_total, \\\n",
    "                                                                        running_loss_train/(train_i+1)))\n",
    "        return 100*train_correct/train_total, running_loss_train/(train_i+1)"
   ]
  },
  {
   "cell_type": "code",
   "execution_count": null,
   "metadata": {
    "colab": {
     "base_uri": "https://localhost:8080/",
     "height": 748
    },
    "colab_type": "code",
    "id": "7mB27O1Z-27r",
    "outputId": "2a2f38e7-5825-452d-85b5-b1373989b007"
   },
   "outputs": [
    {
     "name": "stdout",
     "output_type": "stream",
     "text": [
      "[0], train accuracy: 9.30 %, train_loss 2.30152\n",
      "[1], test accuracy: 9.38 %, test_loss 2.28928\n",
      "[1] train accuracy: 74.06 % train loss: 0.75065\n",
      "[1], test accuracy: 81.37 %, test_loss 0.52133\n",
      "[2] train accuracy: 83.69 % train loss: 0.46130\n",
      "[2], test accuracy: 83.61 %, test_loss 0.46004\n",
      "[3] train accuracy: 85.25 % train loss: 0.41503\n",
      "[3], test accuracy: 84.47 %, test_loss 0.43058\n",
      "[4] train accuracy: 86.20 % train loss: 0.38779\n",
      "[4], test accuracy: 85.24 %, test_loss 0.40989\n",
      "[5] train accuracy: 86.94 % train loss: 0.36575\n",
      "[5], test accuracy: 85.88 %, test_loss 0.38965\n",
      "[6] train accuracy: 87.63 % train loss: 0.34634\n",
      "[6], test accuracy: 86.56 %, test_loss 0.37456\n",
      "[7] train accuracy: 87.91 % train loss: 0.33487\n",
      "[7], test accuracy: 86.67 %, test_loss 0.36475\n",
      "[8] train accuracy: 88.40 % train loss: 0.32004\n",
      "[8], test accuracy: 87.16 %, test_loss 0.35950\n",
      "[9] train accuracy: 88.77 % train loss: 0.30836\n",
      "[9], test accuracy: 87.40 %, test_loss 0.35165\n",
      "[10] train accuracy: 89.13 % train loss: 0.29755\n",
      "[10], test accuracy: 87.83 %, test_loss 0.34557\n",
      "[11] train accuracy: 89.47 % train loss: 0.28601\n",
      "[11], test accuracy: 87.02 %, test_loss 0.35979\n",
      "[12] train accuracy: 89.79 % train loss: 0.27855\n",
      "[12], test accuracy: 87.57 %, test_loss 0.33693\n",
      "[13] train accuracy: 90.15 % train loss: 0.26980\n",
      "[13], test accuracy: 88.20 %, test_loss 0.33033\n",
      "[14] train accuracy: 90.34 % train loss: 0.26159\n",
      "[14], test accuracy: 87.28 %, test_loss 0.34381\n",
      "[15] train accuracy: 90.64 % train loss: 0.25367\n",
      "[15], test accuracy: 87.27 %, test_loss 0.34836\n",
      "[16] train accuracy: 90.91 % train loss: 0.24698\n",
      "[16], test accuracy: 87.43 %, test_loss 0.34149\n",
      "[17] train accuracy: 91.13 % train loss: 0.24058\n",
      "[17], test accuracy: 88.57 %, test_loss 0.32063\n",
      "[18] train accuracy: 91.47 % train loss: 0.23356\n",
      "[18], test accuracy: 88.20 %, test_loss 0.34177\n",
      "[19] train accuracy: 91.73 % train loss: 0.22636\n",
      "[19], test accuracy: 88.95 %, test_loss 0.31820\n",
      "[20] train accuracy: 91.89 % train loss: 0.21996\n",
      "[20], test accuracy: 87.95 %, test_loss 0.33957\n",
      "Finished Training\n"
     ]
    }
   ],
   "source": [
    "test_acc = [0.0]*(num_epochs+1)\n",
    "test_loss = [0.0]*(num_epochs+1)\n",
    "train_acc = [0.0]*(num_epochs+1)\n",
    "train_loss = [0.0]*(num_epochs+1)\n",
    "lst_counter = 0\n",
    "\n",
    "train_acc[lst_counter], train_loss[lst_counter] = eval_initial_model(trainloader)\n",
    "test_acc[lst_counter], test_loss[lst_counter] = eval(testloader, 0)\n",
    "lst_counter += 1\n",
    "\n",
    "for epoch in range(num_epochs):  # loop over the dataset multiple times\n",
    "\n",
    "    running_loss_training = 0.0\n",
    "    correct = 0\n",
    "    total = 0\n",
    "    i = 0\n",
    "    # for i, data in enumerate(trainloader, 0):\n",
    "    for inputs, labels in trainloader:\n",
    "        # get the inputs\n",
    "        # inputs, labels = data\n",
    "        inputs = inputs.reshape(-1, 28*28).to(device); labels = labels.to(device)\n",
    "\n",
    "        # zero the parameter gradients\n",
    "        optimizer.zero_grad()\n",
    "\n",
    "        # forward + backward + optimize\n",
    "        outputs = net(inputs)\n",
    "        training_loss = criterion(outputs, labels)\n",
    "        _, predicted = torch.max(outputs.data, 1)\n",
    "        \n",
    "        training_loss.backward()\n",
    "        optimizer.step()\n",
    "\n",
    "        # print statistics\n",
    "        running_loss_training += training_loss.item()\n",
    "        total += labels.size(0)\n",
    "        correct += (predicted == labels).sum().item()\n",
    "        i += 1\n",
    "        if total >= trainloader.dataset.train_data.shape[0]: # or (epoch == 0 and i == 0):\n",
    "            print('[{:d}] train accuracy: {:4.2f} % train loss: {:.5f}'.format(epoch+1, \\\n",
    "                                                            100*correct/total, running_loss_training/(i+1)))\n",
    "            train_acc[lst_counter] = 100*correct/total\n",
    "            train_loss[lst_counter] = running_loss_training/(i+1)\n",
    "            \n",
    "            running_loss_training = 0.0\n",
    "            \n",
    "            test_acc[lst_counter], test_loss[lst_counter] = eval(testloader, epoch)\n",
    "            lst_counter += 1\n",
    "\n",
    "print('Finished Training')"
   ]
  },
  {
   "cell_type": "code",
   "execution_count": null,
   "metadata": {
    "colab": {},
    "colab_type": "code",
    "id": "D8q8LGTzDdkZ",
    "outputId": "756a0478-fa55-48c1-edd9-29caebb608aa"
   },
   "outputs": [
    {
     "data": {
      "image/png": "[encoded data removed]",
      "text/plain": [
       "<matplotlib.figure.Figure at 0x7fe9ec589080>"
      ]
     },
     "metadata": {
      "tags": []
     },
     "output_type": "display_data"
    }
   ],
   "source": [
    "# Plotting train and test loss vs Epochs\n",
    "fig1 = plt.figure(1)        \n",
    "plt.plot(range(num_epochs+1),train_loss,'r-',label='train_loss')        \n",
    "plt.plot(range(num_epochs+1),test_loss,'g-',label='test_loss')\n",
    "plt.legend(loc='upper right')\n",
    "plt.xlabel('Epochs')\n",
    "plt.ylabel('Losses')\n",
    "plt.show()"
   ]
  },
  {
   "cell_type": "code",
   "execution_count": null,
   "metadata": {
    "colab": {},
    "colab_type": "code",
    "id": "2FpuPCg5BGBt",
    "outputId": "3b21fd9c-3326-4260-82a4-cdd27283656b"
   },
   "outputs": [
    {
     "data": {
      "image/png": "[encoded data removed]",
      "text/plain": [
       "<matplotlib.figure.Figure at 0x7fe978b0c390>"
      ]
     },
     "metadata": {
      "tags": []
     },
     "output_type": "display_data"
    }
   ],
   "source": [
    "fig2 = plt.figure(1)        \n",
    "plt.plot(range(1, num_epochs+1),train_loss[1:],'r-',label='train_loss')        \n",
    "plt.plot(range(1, num_epochs+1),test_loss[1:],'g-',label='test_loss')\n",
    "plt.legend(loc='upper right')\n",
    "plt.xlabel('Epochs')\n",
    "plt.ylabel('Losses')\n",
    "plt.show()"
   ]
  },
  {
   "cell_type": "code",
   "execution_count": null,
   "metadata": {
    "colab": {},
    "colab_type": "code",
    "id": "lCXU3dpCNnOp",
    "outputId": "4c9c0094-0ab3-4732-ace5-abafc15e02d7"
   },
   "outputs": [
    {
     "data": {
      "image/png": "[encoded data removed]",
      "text/plain": [
       "<matplotlib.figure.Figure at 0x7fe978bf9208>"
      ]
     },
     "metadata": {
      "tags": []
     },
     "output_type": "display_data"
    }
   ],
   "source": [
    "# Plotting train and test accuracy vs Epochs\n",
    "fig3 = plt.figure(1)        \n",
    "plt.plot(range(num_epochs+1),train_acc,'r-',label='train_acc')        \n",
    "plt.plot(range(num_epochs+1),test_acc,'g-',label='test_acc')\n",
    "plt.legend(loc='lower right')\n",
    "plt.xlabel('Epochs')\n",
    "plt.ylabel('Accuracies')\n",
    "plt.show()"
   ]
  },
  {
   "cell_type": "code",
   "execution_count": null,
   "metadata": {
    "colab": {},
    "colab_type": "code",
    "id": "eVqYKgsENnOt",
    "outputId": "a7661448-c4ee-40b2-b790-1c753845e5b2"
   },
   "outputs": [
    {
     "data": {
      "image/png": "[encoded data removed]",
      "text/plain": [
       "<matplotlib.figure.Figure at 0x7fe978ba94e0>"
      ]
     },
     "metadata": {
      "tags": []
     },
     "output_type": "display_data"
    },
    {
     "name": "stdout",
     "output_type": "stream",
     "text": [
      "GroundTruth:  Ankle-boot Pullover Trouser Trouser\n",
      "Predicted:  Ankle-boot (1.00) Pullover (1.00) Trouser (1.00) Trouser (1.00)\n"
     ]
    }
   ],
   "source": [
    "dataiter = iter(testloader)\n",
    "images, labels = dataiter.next()\n",
    "\n",
    "# print images\n",
    "imshow(torchvision.utils.make_grid(images[:4], nrow=4))\n",
    "print('GroundTruth: ', ' '.join('%5s' % classes[labels[j]] for j in range(4)))\n",
    "\n",
    "# Get the predicted outputs\n",
    "images = images.reshape(-1, 28*28).to(device)\n",
    "labels = labels.to(device)\n",
    "outputs = net(images)\n",
    "outputs_softmax = F.softmax(outputs, dim=1)\n",
    "probabilities, predicted = torch.max(outputs_softmax, 1)\n",
    "probabilities_np = probabilities.cpu().data.numpy()\n",
    "print('Predicted: ', ' '.join('%5s (%.2f)' % (classes[predicted[j]], probabilities[j]) for j in range(4)))"
   ]
  }
 ],
 "metadata": {
  "colab": {
   "collapsed_sections": [],
   "name": "3_FashionMNIST_FullyConnected.ipynb",
   "provenance": [],
   "version": "0.3.2"
  },
  "kernelspec": {
   "display_name": "Python 3",
   "language": "python",
   "name": "python3"
  },
  "language_info": {
   "codemirror_mode": {
    "name": "ipython",
    "version": 3
   },
   "file_extension": ".py",
   "mimetype": "text/x-python",
   "name": "python",
   "nbconvert_exporter": "python",
   "pygments_lexer": "ipython3",
   "version": "3.6.4"
  }
 },
 "nbformat": 4,
 "nbformat_minor": 2
}
